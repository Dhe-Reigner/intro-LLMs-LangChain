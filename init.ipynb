{
 "cells": [
  {
   "cell_type": "code",
   "execution_count": 17,
   "metadata": {},
   "outputs": [
    {
     "name": "stdout",
     "output_type": "stream",
     "text": [
      "\n",
      "\n",
      "EcoHydrate Co. \n",
      "EcoBottle Co. \n",
      "GreenWave \n",
      "PureEarth Bottles \n",
      "EcoFlow Solutions \n",
      "EnviroSip Co. \n",
      "SustainSwell \n",
      "Nature's Vessel \n",
      "EcoThirst \n",
      "EcoAqua Co. \n",
      "EcoSip Co.\n"
     ]
    }
   ],
   "source": [
    "from langchain.prompts import PromptTemplate\n",
    "from langchain.llms import OpenAI\n",
    "from langchain.chains import LLMChain\n",
    "from dotenv import load_dotenv\n",
    "import os\n",
    "\n",
    "\n",
    "load_dotenv()\n",
    "\n",
    "llm = OpenAI(model=\"gpt-3.5-turbo-instruct\",temperature=0.9)\n",
    "prompt = PromptTemplate(\n",
    "    input_variables=[\"product\"],\n",
    "    template = \"What is a good name for a company that makes {product}? \",\n",
    ")\n",
    "\n",
    "chain = LLMChain(llm=llm , prompt=prompt)\n",
    "\n",
    "\n",
    "\n",
    "# Run the chain only specifying the input variable\n",
    "print(chain.run(\"eco-friendly water bottles\"))"
   ]
  },
  {
   "cell_type": "code",
   "execution_count": 61,
   "metadata": {},
   "outputs": [
    {
     "name": "stdout",
     "output_type": "stream",
     "text": [
      "\n",
      "\n",
      "As the water cascades down my skin\n",
      "I feel like I'm in a magical realm within\n",
      "Each droplet a tiny kiss from above\n",
      "Bringing me peace and overwhelming love\n",
      "\n",
      "The steam rises, enveloping me in its embrace\n",
      "As I close my eyes, my worries erase\n",
      "The scent of lavender fills the air\n",
      "Transporting me to a place beyond compare\n",
      "\n",
      "I stand beneath the shower's gentle flow\n",
      "Letting go of all that I know\n",
      "The warmth soothes my aching soul\n",
      "Making me feel whole\n",
      "\n",
      "I imagine I'm dancing in a summer rain\n",
      "With each drop, washing away my pain\n",
      "The water's rhythm, a soothing song\n",
      "As I hum along, feeling strong\n",
      "\n",
      "The shower's symphony, a harmonious blend\n",
      "A melody that has no end\n",
      "I never want to leave this tranquil place\n",
      "Where time and worries have no trace\n",
      "\n",
      "But as the water starts to run cold\n",
      "I know it's time for me to unfold\n",
      "The wonderful poem in the shower\n",
      "That has given me this moment of power.\n"
     ]
    }
   ],
   "source": [
    "from langchain.llms import OpenAI\n",
    "from langchain.prompts import PromptTemplate\n",
    "from langchain.chains import LLMChain\n",
    "\n",
    "from dotenv import load_dotenv\n",
    "import os\n",
    "\n",
    "\n",
    "load_dotenv()\n",
    "\n",
    "llm = OpenAI(model = \"gpt-3.5-turbo-instruct\", temperature=0.7)\n",
    "\n",
    "prompt = PromptTemplate(\n",
    "    input_variables=[\"girlfriend\"],\n",
    "    template = \"Write a simple poem about a day with {girlfriend} in the shower, using vivid imagery and descriptive language.\",\n",
    ")\n",
    "\n",
    "chain = LLMChain(llm=llm, prompt=prompt)\n",
    "\n",
    "print(chain.run(\"Wonderful poem\"))"
   ]
  }
 ],
 "metadata": {
  "kernelspec": {
   "display_name": "venv",
   "language": "python",
   "name": "python3"
  },
  "language_info": {
   "codemirror_mode": {
    "name": "ipython",
    "version": 3
   },
   "file_extension": ".py",
   "mimetype": "text/x-python",
   "name": "python",
   "nbconvert_exporter": "python",
   "pygments_lexer": "ipython3",
   "version": "3.12.3"
  }
 },
 "nbformat": 4,
 "nbformat_minor": 2
}
