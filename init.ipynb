{
 "cells": [
  {
   "cell_type": "code",
   "execution_count": 1,
   "metadata": {},
   "outputs": [
    {
     "name": "stderr",
     "output_type": "stream",
     "text": [
      "/home/martin/Desktop/TEST/venv/lib/python3.12/site-packages/deeplake/util/check_latest_version.py:32: UserWarning: A newer version of deeplake (4.1.1) is available. It's recommended that you update to the latest version using `pip install -U deeplake`.\n",
      "  warnings.warn(\n"
     ]
    },
    {
     "name": "stdout",
     "output_type": "stream",
     "text": [
      "\n",
      "1. GreenSips\n",
      "2. EarthWise Bottles\n",
      "3. PurePlanet Bottles\n",
      "4. EcoHydrate Co.\n",
      "5. SustainaBottle\n",
      "6. ReNewWares\n",
      "7. HydroEco\n",
      "8. EcoWave Bottles\n",
      "9. CleanQuench Co.\n",
      "10. Nature's Flaskery\n"
     ]
    }
   ],
   "source": [
    "from langchain.prompts import PromptTemplate\n",
    "from langchain.llms import OpenAI\n",
    "from langchain.chains import LLMChain\n",
    "from dotenv import load_dotenv\n",
    "import os\n",
    "\n",
    "\n",
    "load_dotenv()\n",
    "\n",
    "llm = OpenAI(model=\"gpt-3.5-turbo-instruct\",temperature=0.9)\n",
    "prompt = PromptTemplate(\n",
    "    input_variables=[\"product\"],\n",
    "    template = \"What is a good name for a company that makes {product}? \",\n",
    ")\n",
    "\n",
    "chain = LLMChain(llm=llm , prompt=prompt)\n",
    "\n",
    "\n",
    "\n",
    "# Run the chain only specifying the input variable\n",
    "print(chain.run(\"eco-friendly water bottles\"))"
   ]
  }
 ],
 "metadata": {
  "kernelspec": {
   "display_name": "venv",
   "language": "python",
   "name": "python3"
  },
  "language_info": {
   "codemirror_mode": {
    "name": "ipython",
    "version": 3
   },
   "file_extension": ".py",
   "mimetype": "text/x-python",
   "name": "python",
   "nbconvert_exporter": "python",
   "pygments_lexer": "ipython3",
   "version": "3.12.3"
  }
 },
 "nbformat": 4,
 "nbformat_minor": 2
}
